{
 "cells": [
  {
   "cell_type": "markdown",
   "id": "194908fb",
   "metadata": {},
   "source": [
    "# To Create DataFrame"
   ]
  },
  {
   "cell_type": "code",
   "execution_count": 3,
   "id": "28018b78",
   "metadata": {},
   "outputs": [],
   "source": [
    "# To Find spark \n",
    "# uncomment it if environment variables issues occurs\n",
    "# !pip install findspark\n",
    "import findspark\n",
    "findspark.init()"
   ]
  },
  {
   "cell_type": "code",
   "execution_count": 17,
   "id": "e8ea06dd",
   "metadata": {},
   "outputs": [],
   "source": [
    "import pyspark\n",
    "from pyspark.sql import SparkSession,Row\n",
    "from pyspark.sql.types import StructField, StructType, IntegerType, StringType, LongType,TimestampType "
   ]
  },
  {
   "cell_type": "code",
   "execution_count": 5,
   "id": "bf4e502f",
   "metadata": {},
   "outputs": [],
   "source": [
    "sc=SparkSession.builder.appName('Agg').getOrCreate()"
   ]
  },
  {
   "cell_type": "code",
   "execution_count": 29,
   "id": "67648403",
   "metadata": {},
   "outputs": [
    {
     "data": {
      "text/html": [
       "\n",
       "            <div>\n",
       "                <p><b>SparkSession - in-memory</b></p>\n",
       "                \n",
       "        <div>\n",
       "            <p><b>SparkContext</b></p>\n",
       "\n",
       "            <p><a href=\"http://Sudharshan:4040\">Spark UI</a></p>\n",
       "\n",
       "            <dl>\n",
       "              <dt>Version</dt>\n",
       "                <dd><code>v3.2.1</code></dd>\n",
       "              <dt>Master</dt>\n",
       "                <dd><code>local[*]</code></dd>\n",
       "              <dt>AppName</dt>\n",
       "                <dd><code>Agg</code></dd>\n",
       "            </dl>\n",
       "        </div>\n",
       "        \n",
       "            </div>\n",
       "        "
      ],
      "text/plain": [
       "<pyspark.sql.session.SparkSession at 0x24a1a171b50>"
      ]
     },
     "execution_count": 29,
     "metadata": {},
     "output_type": "execute_result"
    }
   ],
   "source": [
    "sc"
   ]
  },
  {
   "cell_type": "code",
   "execution_count": 30,
   "id": "f8fc2ad2",
   "metadata": {},
   "outputs": [],
   "source": [
    "# To Configure cores\n",
    "# conf = spark.SparkConf().setMaster('local')\n",
    "# sc = spark.SparkContext(conf=conf)"
   ]
  },
  {
   "cell_type": "code",
   "execution_count": 23,
   "id": "34988d8d",
   "metadata": {},
   "outputs": [],
   "source": [
    "schema = StructType(\n",
    "    [\n",
    "        StructField(name=\"Name\", dataType=StringType(), nullable=True),\n",
    "        StructField(name=\"Age\", dataType=IntegerType(), nullable=True),\n",
    "        StructField(name=\"Mobile Number\", dataType=LongType(), nullable=False),\n",
    "#         StructField(name=\"DOB\", dataType=TimestampType(), nullable=False),\n",
    "    ]\n",
    ")"
   ]
  },
  {
   "cell_type": "code",
   "execution_count": 50,
   "id": "397a2c57",
   "metadata": {},
   "outputs": [],
   "source": [
    "rows= [\n",
    "    Row('Random 1', 20, 9517152108),\n",
    "    Row('Random 2', 20, 9517152109),\n",
    "    Row('Random 3', 22, 9517152110),\n",
    "]"
   ]
  },
  {
   "cell_type": "code",
   "execution_count": 51,
   "id": "0b9c289d",
   "metadata": {},
   "outputs": [],
   "source": [
    "parellelizeRows =sc.sparkContext.parallelize(rows)"
   ]
  },
  {
   "cell_type": "code",
   "execution_count": 52,
   "id": "c2543af1",
   "metadata": {},
   "outputs": [],
   "source": [
    "df = sc.createDataFrame(parellelizeRows, schema)"
   ]
  },
  {
   "cell_type": "code",
   "execution_count": 53,
   "id": "1ae70f55",
   "metadata": {},
   "outputs": [
    {
     "name": "stdout",
     "output_type": "stream",
     "text": [
      "+--------+---+-------------+\n",
      "|    Name|Age|Mobile Number|\n",
      "+--------+---+-------------+\n",
      "|Random 1| 20|   9517152108|\n",
      "|Random 2| 20|   9517152109|\n",
      "|Random 3| 22|   9517152110|\n",
      "+--------+---+-------------+\n",
      "\n"
     ]
    }
   ],
   "source": [
    "df.show()"
   ]
  },
  {
   "cell_type": "code",
   "execution_count": 54,
   "id": "255e4358",
   "metadata": {},
   "outputs": [],
   "source": [
    "import pyspark.sql.functions as F"
   ]
  },
  {
   "cell_type": "markdown",
   "id": "6b2ad887",
   "metadata": {},
   "source": [
    "## Append Columns"
   ]
  },
  {
   "cell_type": "code",
   "execution_count": 70,
   "id": "bda2aad2",
   "metadata": {},
   "outputs": [],
   "source": [
    "rows2= [\n",
    "    Row('Random 4', 23, 9517152111),\n",
    "    Row('Random 5', 24, 9517152112),\n",
    "    Row('Random 6', 25, 9517152113),\n",
    "]"
   ]
  },
  {
   "cell_type": "code",
   "execution_count": 71,
   "id": "e2bce57c",
   "metadata": {},
   "outputs": [],
   "source": [
    "parellelizeRows =sc.sparkContext.parallelize(rows2)"
   ]
  },
  {
   "cell_type": "code",
   "execution_count": 72,
   "id": "849f02db",
   "metadata": {},
   "outputs": [],
   "source": [
    "df2 = sc.createDataFrame(parellelizeRows, schema)"
   ]
  },
  {
   "cell_type": "code",
   "execution_count": 73,
   "id": "20911e52",
   "metadata": {},
   "outputs": [
    {
     "name": "stdout",
     "output_type": "stream",
     "text": [
      "+--------+---+-------------+\n",
      "|    Name|Age|Mobile Number|\n",
      "+--------+---+-------------+\n",
      "|Random 1| 20|   9517152108|\n",
      "|Random 2| 20|   9517152109|\n",
      "|Random 3| 22|   9517152110|\n",
      "|Random 4| 23|   9517152111|\n",
      "|Random 5| 24|   9517152112|\n",
      "|Random 6| 25|   9517152113|\n",
      "+--------+---+-------------+\n",
      "\n"
     ]
    }
   ],
   "source": [
    "df3 = df.union(df2)\n",
    "df3.show()"
   ]
  },
  {
   "cell_type": "markdown",
   "id": "b308831f",
   "metadata": {},
   "source": [
    "## Make sure the scheme for the df2 matches with df1"
   ]
  },
  {
   "cell_type": "code",
   "execution_count": null,
   "id": "6a92ddb0",
   "metadata": {},
   "outputs": [],
   "source": []
  }
 ],
 "metadata": {
  "kernelspec": {
   "display_name": "Python 3 (ipykernel)",
   "language": "python",
   "name": "python3"
  },
  "language_info": {
   "codemirror_mode": {
    "name": "ipython",
    "version": 3
   },
   "file_extension": ".py",
   "mimetype": "text/x-python",
   "name": "python",
   "nbconvert_exporter": "python",
   "pygments_lexer": "ipython3",
   "version": "3.9.7"
  }
 },
 "nbformat": 4,
 "nbformat_minor": 5
}

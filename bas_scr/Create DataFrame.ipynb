{
 "cells": [
  {
   "cell_type": "markdown",
   "id": "d3d7250f",
   "metadata": {},
   "source": [
    "# To Create DataFrame"
   ]
  },
  {
   "cell_type": "code",
   "execution_count": 3,
   "id": "6cd731c2",
   "metadata": {},
   "outputs": [],
   "source": [
    "# To Find spark \n",
    "# uncomment it if environment variables issues occurs\n",
    "# !pip install findspark\n",
    "import findspark\n",
    "findspark.init()"
   ]
  },
  {
   "cell_type": "code",
   "execution_count": 17,
   "id": "e8ea06dd",
   "metadata": {},
   "outputs": [],
   "source": [
    "import pyspark\n",
    "from pyspark.sql import SparkSession,Row\n",
    "from pyspark.sql.types import StructField, StructType, IntegerType, StringType, LongType,TimestampType "
   ]
  },
  {
   "cell_type": "code",
   "execution_count": 5,
   "id": "28a28fcd",
   "metadata": {},
   "outputs": [],
   "source": [
    "sc=SparkSession.builder.appName('Agg').getOrCreate()"
   ]
  },
  {
   "cell_type": "code",
   "execution_count": 29,
   "id": "25086d35",
   "metadata": {},
   "outputs": [
    {
     "data": {
      "text/html": [
       "\n",
       "            <div>\n",
       "                <p><b>SparkSession - in-memory</b></p>\n",
       "                \n",
       "        <div>\n",
       "            <p><b>SparkContext</b></p>\n",
       "\n",
       "            <p><a href=\"http://Sudharshan:4040\">Spark UI</a></p>\n",
       "\n",
       "            <dl>\n",
       "              <dt>Version</dt>\n",
       "                <dd><code>v3.2.1</code></dd>\n",
       "              <dt>Master</dt>\n",
       "                <dd><code>local[*]</code></dd>\n",
       "              <dt>AppName</dt>\n",
       "                <dd><code>Agg</code></dd>\n",
       "            </dl>\n",
       "        </div>\n",
       "        \n",
       "            </div>\n",
       "        "
      ],
      "text/plain": [
       "<pyspark.sql.session.SparkSession at 0x24a1a171b50>"
      ]
     },
     "execution_count": 29,
     "metadata": {},
     "output_type": "execute_result"
    }
   ],
   "source": [
    "sc"
   ]
  },
  {
   "cell_type": "code",
   "execution_count": 30,
   "id": "ab933dba",
   "metadata": {},
   "outputs": [],
   "source": [
    "# To Configure cores\n",
    "# conf = spark.SparkConf().setMaster('local')\n",
    "# sc = spark.SparkContext(conf=conf)"
   ]
  },
  {
   "cell_type": "code",
   "execution_count": 23,
   "id": "a2c77bf1",
   "metadata": {},
   "outputs": [],
   "source": [
    "schema = StructType(\n",
    "    [\n",
    "        StructField(name=\"Name\", dataType=StringType(), nullable=True),\n",
    "        StructField(name=\"Age\", dataType=IntegerType(), nullable=True),\n",
    "        StructField(name=\"Mobile Number\", dataType=LongType(), nullable=False),\n",
    "#         StructField(name=\"DOB\", dataType=TimestampType(), nullable=False),\n",
    "    ]\n",
    ")"
   ]
  },
  {
   "cell_type": "code",
   "execution_count": 24,
   "id": "b8f1c4ae",
   "metadata": {},
   "outputs": [],
   "source": [
    "rows= [\n",
    "    Row('Random 1', 20, 9517152108),\n",
    "    Row('Random 2', 20, 9517152109),\n",
    "    Row('Random 3', 20, 9517152110),\n",
    "]"
   ]
  },
  {
   "cell_type": "code",
   "execution_count": 25,
   "id": "6fac9d0f",
   "metadata": {},
   "outputs": [],
   "source": [
    "parellelizeRows =sc.sparkContext.parallelize(rows)"
   ]
  },
  {
   "cell_type": "code",
   "execution_count": 26,
   "id": "092324b8",
   "metadata": {},
   "outputs": [],
   "source": [
    "df = sc.createDataFrame(parellelizeRows, schema)"
   ]
  },
  {
   "cell_type": "code",
   "execution_count": 27,
   "id": "d72df6ed",
   "metadata": {},
   "outputs": [
    {
     "name": "stdout",
     "output_type": "stream",
     "text": [
      "+--------+---+-------------+\n",
      "|    Name|Age|Mobile Number|\n",
      "+--------+---+-------------+\n",
      "|Random 1| 20|   9517152108|\n",
      "|Random 2| 20|   9517152109|\n",
      "|Random 3| 20|   9517152110|\n",
      "+--------+---+-------------+\n",
      "\n"
     ]
    }
   ],
   "source": [
    "df.show()"
   ]
  },
  {
   "cell_type": "code",
   "execution_count": null,
   "id": "255e4358",
   "metadata": {},
   "outputs": [],
   "source": []
  }
 ],
 "metadata": {
  "kernelspec": {
   "display_name": "Python 3 (ipykernel)",
   "language": "python",
   "name": "python3"
  },
  "language_info": {
   "codemirror_mode": {
    "name": "ipython",
    "version": 3
   },
   "file_extension": ".py",
   "mimetype": "text/x-python",
   "name": "python",
   "nbconvert_exporter": "python",
   "pygments_lexer": "ipython3",
   "version": "3.9.7"
  }
 },
 "nbformat": 4,
 "nbformat_minor": 5
}

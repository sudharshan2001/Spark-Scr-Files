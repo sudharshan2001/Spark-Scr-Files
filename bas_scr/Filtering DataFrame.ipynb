{
 "cells": [
  {
   "cell_type": "markdown",
   "id": "a47b8c66",
   "metadata": {},
   "source": [
    "# To Create DataFrame"
   ]
  },
  {
   "cell_type": "code",
   "execution_count": 3,
   "id": "67bb7dac",
   "metadata": {},
   "outputs": [],
   "source": [
    "# To Find spark \n",
    "# uncomment it if environment variables issues occurs\n",
    "# !pip install findspark\n",
    "import findspark\n",
    "findspark.init()"
   ]
  },
  {
   "cell_type": "code",
   "execution_count": 17,
   "id": "e8ea06dd",
   "metadata": {},
   "outputs": [],
   "source": [
    "import pyspark\n",
    "from pyspark.sql import SparkSession,Row\n",
    "from pyspark.sql.types import StructField, StructType, IntegerType, StringType, LongType,TimestampType "
   ]
  },
  {
   "cell_type": "code",
   "execution_count": 5,
   "id": "eee9c2aa",
   "metadata": {},
   "outputs": [],
   "source": [
    "sc=SparkSession.builder.appName('Agg').getOrCreate()"
   ]
  },
  {
   "cell_type": "code",
   "execution_count": 29,
   "id": "d077fd72",
   "metadata": {},
   "outputs": [
    {
     "data": {
      "text/html": [
       "\n",
       "            <div>\n",
       "                <p><b>SparkSession - in-memory</b></p>\n",
       "                \n",
       "        <div>\n",
       "            <p><b>SparkContext</b></p>\n",
       "\n",
       "            <p><a href=\"http://Sudharshan:4040\">Spark UI</a></p>\n",
       "\n",
       "            <dl>\n",
       "              <dt>Version</dt>\n",
       "                <dd><code>v3.2.1</code></dd>\n",
       "              <dt>Master</dt>\n",
       "                <dd><code>local[*]</code></dd>\n",
       "              <dt>AppName</dt>\n",
       "                <dd><code>Agg</code></dd>\n",
       "            </dl>\n",
       "        </div>\n",
       "        \n",
       "            </div>\n",
       "        "
      ],
      "text/plain": [
       "<pyspark.sql.session.SparkSession at 0x24a1a171b50>"
      ]
     },
     "execution_count": 29,
     "metadata": {},
     "output_type": "execute_result"
    }
   ],
   "source": [
    "sc"
   ]
  },
  {
   "cell_type": "code",
   "execution_count": 30,
   "id": "0b22776f",
   "metadata": {},
   "outputs": [],
   "source": [
    "# To Configure cores\n",
    "# conf = spark.SparkConf().setMaster('local')\n",
    "# sc = spark.SparkContext(conf=conf)"
   ]
  },
  {
   "cell_type": "code",
   "execution_count": 23,
   "id": "ad148d40",
   "metadata": {},
   "outputs": [],
   "source": [
    "schema = StructType(\n",
    "    [\n",
    "        StructField(name=\"Name\", dataType=StringType(), nullable=True),\n",
    "        StructField(name=\"Age\", dataType=IntegerType(), nullable=True),\n",
    "        StructField(name=\"Mobile Number\", dataType=LongType(), nullable=False),\n",
    "#         StructField(name=\"DOB\", dataType=TimestampType(), nullable=False),\n",
    "    ]\n",
    ")"
   ]
  },
  {
   "cell_type": "code",
   "execution_count": 50,
   "id": "a5b88da0",
   "metadata": {},
   "outputs": [],
   "source": [
    "rows= [\n",
    "    Row('Random 1', 20, 9517152108),\n",
    "    Row('Random 2', 20, 9517152109),\n",
    "    Row('Random 3', 22, 9517152110),\n",
    "]"
   ]
  },
  {
   "cell_type": "code",
   "execution_count": 51,
   "id": "f97936fa",
   "metadata": {},
   "outputs": [],
   "source": [
    "parellelizeRows =sc.sparkContext.parallelize(rows)"
   ]
  },
  {
   "cell_type": "code",
   "execution_count": 52,
   "id": "7b416c6c",
   "metadata": {},
   "outputs": [],
   "source": [
    "df = sc.createDataFrame(parellelizeRows, schema)"
   ]
  },
  {
   "cell_type": "code",
   "execution_count": 53,
   "id": "9d604ece",
   "metadata": {},
   "outputs": [
    {
     "name": "stdout",
     "output_type": "stream",
     "text": [
      "+--------+---+-------------+\n",
      "|    Name|Age|Mobile Number|\n",
      "+--------+---+-------------+\n",
      "|Random 1| 20|   9517152108|\n",
      "|Random 2| 20|   9517152109|\n",
      "|Random 3| 22|   9517152110|\n",
      "+--------+---+-------------+\n",
      "\n"
     ]
    }
   ],
   "source": [
    "df.show()"
   ]
  },
  {
   "cell_type": "code",
   "execution_count": 54,
   "id": "255e4358",
   "metadata": {},
   "outputs": [],
   "source": [
    "import pyspark.sql.functions as F"
   ]
  },
  {
   "cell_type": "code",
   "execution_count": 55,
   "id": "330142cc",
   "metadata": {},
   "outputs": [
    {
     "data": {
      "text/plain": [
       "DataFrame[Name: string]"
      ]
     },
     "execution_count": 55,
     "metadata": {},
     "output_type": "execute_result"
    }
   ],
   "source": [
    "df.select(F.col(\"Name\"))"
   ]
  },
  {
   "cell_type": "markdown",
   "id": "feeab67d",
   "metadata": {},
   "source": [
    "## To Change column names"
   ]
  },
  {
   "cell_type": "code",
   "execution_count": 57,
   "id": "bff3ea26",
   "metadata": {},
   "outputs": [
    {
     "name": "stdout",
     "output_type": "stream",
     "text": [
      "+--------+\n",
      "|   Name2|\n",
      "+--------+\n",
      "|Random 1|\n",
      "|Random 2|\n",
      "+--------+\n",
      "only showing top 2 rows\n",
      "\n"
     ]
    }
   ],
   "source": [
    "df.select(F.expr(\"Name as Name2\")).show(2)"
   ]
  },
  {
   "cell_type": "markdown",
   "id": "1f49476a",
   "metadata": {},
   "source": [
    "## Filtering Values"
   ]
  },
  {
   "cell_type": "code",
   "execution_count": 68,
   "id": "447e37c4",
   "metadata": {},
   "outputs": [
    {
     "name": "stdout",
     "output_type": "stream",
     "text": [
      "+--------+---+-------------+\n",
      "|    Name|Age|Mobile Number|\n",
      "+--------+---+-------------+\n",
      "|Random 1| 20|   9517152108|\n",
      "|Random 2| 20|   9517152109|\n",
      "+--------+---+-------------+\n",
      "\n"
     ]
    }
   ],
   "source": [
    "df.where('Age < 21').show()"
   ]
  },
  {
   "cell_type": "markdown",
   "id": "8cb730b2",
   "metadata": {},
   "source": [
    "## Filter Multiple Values"
   ]
  },
  {
   "cell_type": "code",
   "execution_count": 67,
   "id": "8f1b25c7",
   "metadata": {},
   "outputs": [
    {
     "name": "stdout",
     "output_type": "stream",
     "text": [
      "+--------+---+-------------+\n",
      "|    Name|Age|Mobile Number|\n",
      "+--------+---+-------------+\n",
      "|Random 1| 20|   9517152108|\n",
      "+--------+---+-------------+\n",
      "\n"
     ]
    }
   ],
   "source": [
    "df.where('Age < 21').where(F.col('Mobile Number') == '9517152108' ).show()"
   ]
  },
  {
   "cell_type": "markdown",
   "id": "9825e811",
   "metadata": {},
   "source": [
    "## Get Unique value in a Column"
   ]
  },
  {
   "cell_type": "code",
   "execution_count": 69,
   "id": "0b56d23f",
   "metadata": {},
   "outputs": [
    {
     "data": {
      "text/plain": [
       "2"
      ]
     },
     "execution_count": 69,
     "metadata": {},
     "output_type": "execute_result"
    }
   ],
   "source": [
    "df.select(\"Age\").distinct().count()"
   ]
  },
  {
   "cell_type": "code",
   "execution_count": null,
   "id": "5ada511c",
   "metadata": {},
   "outputs": [],
   "source": []
  }
 ],
 "metadata": {
  "kernelspec": {
   "display_name": "Python 3 (ipykernel)",
   "language": "python",
   "name": "python3"
  },
  "language_info": {
   "codemirror_mode": {
    "name": "ipython",
    "version": 3
   },
   "file_extension": ".py",
   "mimetype": "text/x-python",
   "name": "python",
   "nbconvert_exporter": "python",
   "pygments_lexer": "ipython3",
   "version": "3.9.7"
  }
 },
 "nbformat": 4,
 "nbformat_minor": 5
}
